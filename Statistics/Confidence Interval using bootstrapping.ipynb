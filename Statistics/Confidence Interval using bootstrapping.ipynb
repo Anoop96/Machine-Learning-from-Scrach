{
 "cells": [
  {
   "cell_type": "code",
   "execution_count": 3,
   "metadata": {},
   "outputs": [],
   "source": [
    "import numpy as np\n",
    "import pandas as pd\n",
    "from sklearn.utils import resample\n",
    "from sklearn.metrics import accuracy_score\n",
    "import matplotlib.pyplot as plt"
   ]
  },
  {
   "cell_type": "markdown",
   "metadata": {},
   "source": [
    "Sometimes it is really difficult to give point estimate of our statistic(mean, std-dev,var,median, etc). for such instances we use bootstrapping techniques which uses the computing power of our system and gives us the confidence interval(C.I).\n",
    "if i say my mean lies in [161,171] with 95% CI This means that if I repeat my sampling experiment 100 times, mean comes in the range mentioned 95 times.\n",
    "\n",
    "If I know mean and std_dev then we can make use of Central Limit theorem and calculate the confidence Interval.\n",
    "\n",
    "But for the case when mean and std_dev is unknown then we can use Bootstarpping technique to calculate our CI.\n",
    "suppose I have a sample X of sample size(n)= 10 contains heights of student.\n",
    "we will use this sample to calculate CI for median.\n",
    "\n",
    "we generate sample(x[m] using the sample X such that m<=n, this is a random sample generated from sample X.\n",
    " here this sampling is with repetition. This is done using resample method in sklearn.\n",
    "                   \n",
    "similar to above method we generate k random samples known as bootstrap sample and we now calculate medians of each of these samples.\n",
    "Now, we have k medians , which we sort them and take CI using percentiles                   \n",
    "like if i want 95% CI then I will take 2.5 percentile and 97.5 Percentile.\n",
    "                   "
   ]
  },
  {
   "cell_type": "code",
   "execution_count": 16,
   "metadata": {},
   "outputs": [],
   "source": [
    "x = np.array([180,162,158,172,168,150,171,183,165,176])\n",
    "# this is my orifinal samples.\n",
    "n_iterations = 1000 # this is no of sampling experiments i want to perform.(K)\n",
    "sample_size = int(len(x)) #this is the size of my bootstarp sample.(m)\n",
    "medians = list() # this variable will hold all my k=1000 medians\n",
    "\n",
    "for i in range(n_iterations):\n",
    "    s = resample(x,n_samples=sample_size) # performing a sampling experiment\n",
    "    m = np.median(s) # calculating the mean\n",
    "    medians.append(m) # appending in the list\n",
    "    \n",
    "# Now I have list median which have 1000 medians on which we will calc CI using percentiles.\n"
   ]
  },
  {
   "cell_type": "code",
   "execution_count": 17,
   "metadata": {},
   "outputs": [
    {
     "data": {
      "text/plain": [
       "1000"
      ]
     },
     "execution_count": 17,
     "metadata": {},
     "output_type": "execute_result"
    }
   ],
   "source": [
    "len(medians)"
   ]
  },
  {
   "cell_type": "code",
   "execution_count": 11,
   "metadata": {},
   "outputs": [
    {
     "data": {
      "image/png": "[encoded data removed]",
      "text/plain": [
       "<Figure size 432x288 with 1 Axes>"
      ]
     },
     "metadata": {
      "needs_background": "light"
     },
     "output_type": "display_data"
    }
   ],
   "source": [
    "plt.hist(medians)\n",
    "plt.show()"
   ]
  },
  {
   "cell_type": "code",
   "execution_count": 18,
   "metadata": {},
   "outputs": [],
   "source": [
    "accuracy_alpha=0.95 # confidence I want in the range\n",
    "upper=(accuracy_alpha+((1-accuracy_alpha)/2))*100 # calculation for upperlimit of CI\n",
    "up = np.percentile(medians,upper)\n",
    "lower = ((1-accuracy_alpha)/2)*100 # calculation for lower limit of CI\n",
    "lo = np.percentile(medians,lower)"
   ]
  },
  {
   "cell_type": "code",
   "execution_count": 20,
   "metadata": {},
   "outputs": [
    {
     "name": "stdout",
     "output_type": "stream",
     "text": [
      "161.5 176.0\n"
     ]
    }
   ],
   "source": [
    "print(lo,up)# This is my CI for 95% accuracy of median."
   ]
  },
  {
   "cell_type": "markdown",
   "metadata": {},
   "source": [
    "This confidence interval is wider because our original sample size is small, if it is larger this interval seems to converge to a short interval."
   ]
  },
  {
   "cell_type": "code",
   "execution_count": null,
   "metadata": {},
   "outputs": [],
   "source": []
  }
 ],
 "metadata": {
  "kernelspec": {
   "display_name": "Python 3",
   "language": "python",
   "name": "python3"
  },
  "language_info": {
   "codemirror_mode": {
    "name": "ipython",
    "version": 3
   },
   "file_extension": ".py",
   "mimetype": "text/x-python",
   "name": "python",
   "nbconvert_exporter": "python",
   "pygments_lexer": "ipython3",
   "version": "3.7.4"
  }
 },
 "nbformat": 4,
 "nbformat_minor": 2
}
